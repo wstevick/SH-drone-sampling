{
 "cells": [
  {
   "cell_type": "markdown",
   "id": "8ed7eb27-8ba1-442f-9a3b-a3f517ee10a0",
   "metadata": {},
   "source": [
    "# Preparations"
   ]
  },
  {
   "cell_type": "code",
   "execution_count": 1,
   "id": "a8f272cb-906a-4ac2-b453-3519039ae5f0",
   "metadata": {},
   "outputs": [],
   "source": [
    "import pandas as pd\n",
    "import geopandas as gpd\n",
    "import folium\n",
    "import geopy.distance as distance\n",
    "import data_analysis\n",
    "import seaborn as sns\n",
    "import scipy.stats as stats\n",
    "\n",
    "import matplotlib.pyplot as plt"
   ]
  },
  {
   "cell_type": "code",
   "execution_count": 2,
   "id": "1c76eb3d-f579-4bd0-bfe3-3f0f0fb5cc0e",
   "metadata": {},
   "outputs": [],
   "source": [
    "def plotregion(m, df, linecolor='#00ff00'):\n",
    "    df = df.dropna(subset=['temp', 'humidity'])\n",
    "    line = df[['lat', 'lon']].values\n",
    "    if len(line):\n",
    "        folium.PolyLine(line, color=linecolor).add_to(m)\n",
    "\n",
    "    for lat, lon, temp, humidity, distance in df[['lat', 'lon', 'temp', 'humidity', 'distance']].values:\n",
    "        #color = f'#{int(temp / 20 * 256):02x}00{int(humidity / 100 * 256):02x}'\n",
    "        #color = f'#{int(distance / 151 * 255):02x}00{int((1 - distance / 151) * 255):02x}'\n",
    "        #color = 'black'\n",
    "        folium.CircleMarker(location=[lat, lon], radius=5, fill_opacity=1, fill=True, stroke=False).add_to(m)\n"
   ]
  },
  {
   "cell_type": "markdown",
   "id": "fbea27d8-55b9-44d0-b5c2-f2e86ec867eb",
   "metadata": {},
   "source": [
    "# Sanity Checks"
   ]
  },
  {
   "cell_type": "code",
   "execution_count": 3,
   "id": "451aa7b7-c531-4c1e-8134-41907fd3edd0",
   "metadata": {},
   "outputs": [
    {
     "name": "stdout",
     "output_type": "stream",
     "text": [
      "1 04-04\n",
      "Normal\n",
      "Dry\n",
      "Dry\n",
      "Dry\n",
      "Dry\n",
      "Dry\n",
      "Dry\n",
      "Dry\n",
      "Dry\n",
      "Dry\n",
      "Dry\n",
      "Dry\n",
      "Normal\n",
      "Dry\n",
      "Wet+\n",
      "2 04-04\n",
      "Dry\n",
      "Normal\n",
      "Dry\n",
      "Normal\n",
      "Dry\n",
      "Wet\n",
      "Wet\n",
      "Dry\n",
      "Dry\n",
      "Dry\n",
      "Dry\n",
      "Normal\n",
      "Dry\n",
      "Wet+\n",
      "Wet+\n",
      "3 04-04\n",
      "Wet\n",
      "Normal\n",
      "Wet+\n",
      "Dry\n",
      "Wet\n",
      "Wet+\n",
      "Wet+\n",
      "Wet+\n",
      "Wet+\n",
      "Wet+\n",
      "Wet\n",
      "Dry\n",
      "Dry\n",
      "Wet\n",
      "Wet\n",
      "1 04-27\n",
      "nan\n"
     ]
    },
    {
     "ename": "TypeError",
     "evalue": "'float' object is not subscriptable",
     "output_type": "error",
     "traceback": [
      "\u001b[31m---------------------------------------------------------------------------\u001b[39m",
      "\u001b[31mTypeError\u001b[39m                                 Traceback (most recent call last)",
      "\u001b[36mCell\u001b[39m\u001b[36m \u001b[39m\u001b[32mIn[3]\u001b[39m\u001b[32m, line 8\u001b[39m\n\u001b[32m      6\u001b[39m \u001b[38;5;28;01mfor\u001b[39;00m date \u001b[38;5;129;01min\u001b[39;00m dates:\n\u001b[32m      7\u001b[39m     \u001b[38;5;28;01mfor\u001b[39;00m transect \u001b[38;5;129;01min\u001b[39;00m \u001b[38;5;28mrange\u001b[39m(\u001b[32m1\u001b[39m, \u001b[32m4\u001b[39m):\n\u001b[32m----> \u001b[39m\u001b[32m8\u001b[39m         ground = \u001b[43mdata_analysis\u001b[49m\u001b[43m.\u001b[49m\u001b[43mground_data\u001b[49m\u001b[43m(\u001b[49m\u001b[43mtransect\u001b[49m\u001b[43m,\u001b[49m\u001b[43m \u001b[49m\u001b[43mdate\u001b[49m\u001b[43m)\u001b[49m\n\u001b[32m      9\u001b[39m         below = data_analysis.below_canopy(transect, date)\n\u001b[32m     10\u001b[39m         above = data_analysis.above_canopy(transect, date)\n",
      "\u001b[36mFile \u001b[39m\u001b[32m/mnt/c/Users/wesle/Desktop/SH-drone-sampling/data_analysis.py:29\u001b[39m, in \u001b[36mground_data\u001b[39m\u001b[34m(transect, date)\u001b[39m\n\u001b[32m     27\u001b[39m \u001b[38;5;28;01mdel\u001b[39;00m ground[\u001b[33m\"\u001b[39m\u001b[33msoil temperature\u001b[39m\u001b[33m\"\u001b[39m]\n\u001b[32m     28\u001b[39m \u001b[38;5;28mprint\u001b[39m(transect, date)\n\u001b[32m---> \u001b[39m\u001b[32m29\u001b[39m ground[\u001b[33m\"\u001b[39m\u001b[33msoil_moisture\u001b[39m\u001b[33m\"\u001b[39m] = \u001b[43mground\u001b[49m\u001b[43m[\u001b[49m\u001b[33;43m\"\u001b[39;49m\u001b[33;43msoil moisture\u001b[39;49m\u001b[33;43m\"\u001b[39;49m\u001b[43m]\u001b[49m\u001b[43m.\u001b[49m\u001b[43mapply\u001b[49m\u001b[43m(\u001b[49m\n\u001b[32m     30\u001b[39m \u001b[43m    \u001b[49m\u001b[38;5;28;43;01mlambda\u001b[39;49;00m\u001b[43m \u001b[49m\u001b[43mm\u001b[49m\u001b[43m:\u001b[49m\u001b[43m \u001b[49m\u001b[33;43m\"\u001b[39;49m\u001b[33;43mDNW\u001b[39;49m\u001b[33;43m\"\u001b[39;49m\u001b[43m.\u001b[49m\u001b[43mindex\u001b[49m\u001b[43m(\u001b[49m\u001b[43m(\u001b[49m\u001b[38;5;28;43mprint\u001b[39;49m\u001b[43m(\u001b[49m\u001b[43mm\u001b[49m\u001b[43m)\u001b[49m\u001b[43m,\u001b[49m\u001b[43m \u001b[49m\u001b[43mm\u001b[49m\u001b[43m[\u001b[49m\u001b[32;43m0\u001b[39;49m\u001b[43m]\u001b[49m\u001b[43m)\u001b[49m\u001b[43m[\u001b[49m\u001b[32;43m1\u001b[39;49m\u001b[43m]\u001b[49m\u001b[43m)\u001b[49m\u001b[43m \u001b[49m\u001b[43m*\u001b[49m\u001b[43m \u001b[49m\u001b[32;43m3\u001b[39;49m\n\u001b[32m     31\u001b[39m \u001b[43m    \u001b[49m\u001b[43m+\u001b[49m\u001b[43m \u001b[49m\u001b[43m(\u001b[49m\u001b[32;43m1\u001b[39;49m\u001b[43m \u001b[49m\u001b[38;5;28;43;01mif\u001b[39;49;00m\u001b[43m \u001b[49m\u001b[43mm\u001b[49m\u001b[43m[\u001b[49m\u001b[43m-\u001b[49m\u001b[32;43m1\u001b[39;49m\u001b[43m]\u001b[49m\u001b[43m \u001b[49m\u001b[38;5;129;43;01min\u001b[39;49;00m\u001b[43m \u001b[49m\u001b[33;43m\"\u001b[39;49m\u001b[33;43m-_\u001b[39;49m\u001b[33;43m\"\u001b[39;49m\u001b[43m \u001b[49m\u001b[38;5;28;43;01melse\u001b[39;49;00m\u001b[43m \u001b[49m\u001b[43m(\u001b[49m\u001b[32;43m2\u001b[39;49m\u001b[43m \u001b[49m\u001b[38;5;28;43;01mif\u001b[39;49;00m\u001b[43m \u001b[49m\u001b[43mm\u001b[49m\u001b[43m[\u001b[49m\u001b[43m-\u001b[49m\u001b[32;43m1\u001b[39;49m\u001b[43m]\u001b[49m\u001b[43m \u001b[49m\u001b[43m!=\u001b[49m\u001b[43m \u001b[49m\u001b[33;43m\"\u001b[39;49m\u001b[33;43m+\u001b[39;49m\u001b[33;43m\"\u001b[39;49m\u001b[43m \u001b[49m\u001b[38;5;28;43;01melse\u001b[39;49;00m\u001b[43m \u001b[49m\u001b[32;43m3\u001b[39;49m\u001b[43m)\u001b[49m\u001b[43m)\u001b[49m\n\u001b[32m     32\u001b[39m \u001b[43m\u001b[49m\u001b[43m)\u001b[49m\n\u001b[32m     33\u001b[39m \u001b[38;5;28;01mdel\u001b[39;00m ground[\u001b[33m\"\u001b[39m\u001b[33msoil moisture\u001b[39m\u001b[33m\"\u001b[39m]\n\u001b[32m     35\u001b[39m \u001b[38;5;66;03m# Convert time data to workable variables\u001b[39;00m\n",
      "\u001b[36mFile \u001b[39m\u001b[32m~/.pyenv/versions/3.13.2/lib/python3.13/site-packages/pandas/core/series.py:4924\u001b[39m, in \u001b[36mSeries.apply\u001b[39m\u001b[34m(self, func, convert_dtype, args, by_row, **kwargs)\u001b[39m\n\u001b[32m   4789\u001b[39m \u001b[38;5;28;01mdef\u001b[39;00m\u001b[38;5;250m \u001b[39m\u001b[34mapply\u001b[39m(\n\u001b[32m   4790\u001b[39m     \u001b[38;5;28mself\u001b[39m,\n\u001b[32m   4791\u001b[39m     func: AggFuncType,\n\u001b[32m   (...)\u001b[39m\u001b[32m   4796\u001b[39m     **kwargs,\n\u001b[32m   4797\u001b[39m ) -> DataFrame | Series:\n\u001b[32m   4798\u001b[39m \u001b[38;5;250m    \u001b[39m\u001b[33;03m\"\"\"\u001b[39;00m\n\u001b[32m   4799\u001b[39m \u001b[33;03m    Invoke function on values of Series.\u001b[39;00m\n\u001b[32m   4800\u001b[39m \n\u001b[32m   (...)\u001b[39m\u001b[32m   4915\u001b[39m \u001b[33;03m    dtype: float64\u001b[39;00m\n\u001b[32m   4916\u001b[39m \u001b[33;03m    \"\"\"\u001b[39;00m\n\u001b[32m   4917\u001b[39m     \u001b[38;5;28;01mreturn\u001b[39;00m \u001b[43mSeriesApply\u001b[49m\u001b[43m(\u001b[49m\n\u001b[32m   4918\u001b[39m \u001b[43m        \u001b[49m\u001b[38;5;28;43mself\u001b[39;49m\u001b[43m,\u001b[49m\n\u001b[32m   4919\u001b[39m \u001b[43m        \u001b[49m\u001b[43mfunc\u001b[49m\u001b[43m,\u001b[49m\n\u001b[32m   4920\u001b[39m \u001b[43m        \u001b[49m\u001b[43mconvert_dtype\u001b[49m\u001b[43m=\u001b[49m\u001b[43mconvert_dtype\u001b[49m\u001b[43m,\u001b[49m\n\u001b[32m   4921\u001b[39m \u001b[43m        \u001b[49m\u001b[43mby_row\u001b[49m\u001b[43m=\u001b[49m\u001b[43mby_row\u001b[49m\u001b[43m,\u001b[49m\n\u001b[32m   4922\u001b[39m \u001b[43m        \u001b[49m\u001b[43margs\u001b[49m\u001b[43m=\u001b[49m\u001b[43margs\u001b[49m\u001b[43m,\u001b[49m\n\u001b[32m   4923\u001b[39m \u001b[43m        \u001b[49m\u001b[43mkwargs\u001b[49m\u001b[43m=\u001b[49m\u001b[43mkwargs\u001b[49m\u001b[43m,\u001b[49m\n\u001b[32m-> \u001b[39m\u001b[32m4924\u001b[39m \u001b[43m    \u001b[49m\u001b[43m)\u001b[49m\u001b[43m.\u001b[49m\u001b[43mapply\u001b[49m\u001b[43m(\u001b[49m\u001b[43m)\u001b[49m\n",
      "\u001b[36mFile \u001b[39m\u001b[32m~/.pyenv/versions/3.13.2/lib/python3.13/site-packages/pandas/core/apply.py:1427\u001b[39m, in \u001b[36mSeriesApply.apply\u001b[39m\u001b[34m(self)\u001b[39m\n\u001b[32m   1424\u001b[39m     \u001b[38;5;28;01mreturn\u001b[39;00m \u001b[38;5;28mself\u001b[39m.apply_compat()\n\u001b[32m   1426\u001b[39m \u001b[38;5;66;03m# self.func is Callable\u001b[39;00m\n\u001b[32m-> \u001b[39m\u001b[32m1427\u001b[39m \u001b[38;5;28;01mreturn\u001b[39;00m \u001b[38;5;28;43mself\u001b[39;49m\u001b[43m.\u001b[49m\u001b[43mapply_standard\u001b[49m\u001b[43m(\u001b[49m\u001b[43m)\u001b[49m\n",
      "\u001b[36mFile \u001b[39m\u001b[32m~/.pyenv/versions/3.13.2/lib/python3.13/site-packages/pandas/core/apply.py:1507\u001b[39m, in \u001b[36mSeriesApply.apply_standard\u001b[39m\u001b[34m(self)\u001b[39m\n\u001b[32m   1501\u001b[39m \u001b[38;5;66;03m# row-wise access\u001b[39;00m\n\u001b[32m   1502\u001b[39m \u001b[38;5;66;03m# apply doesn't have a `na_action` keyword and for backward compat reasons\u001b[39;00m\n\u001b[32m   1503\u001b[39m \u001b[38;5;66;03m# we need to give `na_action=\"ignore\"` for categorical data.\u001b[39;00m\n\u001b[32m   1504\u001b[39m \u001b[38;5;66;03m# TODO: remove the `na_action=\"ignore\"` when that default has been changed in\u001b[39;00m\n\u001b[32m   1505\u001b[39m \u001b[38;5;66;03m#  Categorical (GH51645).\u001b[39;00m\n\u001b[32m   1506\u001b[39m action = \u001b[33m\"\u001b[39m\u001b[33mignore\u001b[39m\u001b[33m\"\u001b[39m \u001b[38;5;28;01mif\u001b[39;00m \u001b[38;5;28misinstance\u001b[39m(obj.dtype, CategoricalDtype) \u001b[38;5;28;01melse\u001b[39;00m \u001b[38;5;28;01mNone\u001b[39;00m\n\u001b[32m-> \u001b[39m\u001b[32m1507\u001b[39m mapped = \u001b[43mobj\u001b[49m\u001b[43m.\u001b[49m\u001b[43m_map_values\u001b[49m\u001b[43m(\u001b[49m\n\u001b[32m   1508\u001b[39m \u001b[43m    \u001b[49m\u001b[43mmapper\u001b[49m\u001b[43m=\u001b[49m\u001b[43mcurried\u001b[49m\u001b[43m,\u001b[49m\u001b[43m \u001b[49m\u001b[43mna_action\u001b[49m\u001b[43m=\u001b[49m\u001b[43maction\u001b[49m\u001b[43m,\u001b[49m\u001b[43m \u001b[49m\u001b[43mconvert\u001b[49m\u001b[43m=\u001b[49m\u001b[38;5;28;43mself\u001b[39;49m\u001b[43m.\u001b[49m\u001b[43mconvert_dtype\u001b[49m\n\u001b[32m   1509\u001b[39m \u001b[43m\u001b[49m\u001b[43m)\u001b[49m\n\u001b[32m   1511\u001b[39m \u001b[38;5;28;01mif\u001b[39;00m \u001b[38;5;28mlen\u001b[39m(mapped) \u001b[38;5;129;01mand\u001b[39;00m \u001b[38;5;28misinstance\u001b[39m(mapped[\u001b[32m0\u001b[39m], ABCSeries):\n\u001b[32m   1512\u001b[39m     \u001b[38;5;66;03m# GH#43986 Need to do list(mapped) in order to get treated as nested\u001b[39;00m\n\u001b[32m   1513\u001b[39m     \u001b[38;5;66;03m#  See also GH#25959 regarding EA support\u001b[39;00m\n\u001b[32m   1514\u001b[39m     \u001b[38;5;28;01mreturn\u001b[39;00m obj._constructor_expanddim(\u001b[38;5;28mlist\u001b[39m(mapped), index=obj.index)\n",
      "\u001b[36mFile \u001b[39m\u001b[32m~/.pyenv/versions/3.13.2/lib/python3.13/site-packages/pandas/core/base.py:921\u001b[39m, in \u001b[36mIndexOpsMixin._map_values\u001b[39m\u001b[34m(self, mapper, na_action, convert)\u001b[39m\n\u001b[32m    918\u001b[39m \u001b[38;5;28;01mif\u001b[39;00m \u001b[38;5;28misinstance\u001b[39m(arr, ExtensionArray):\n\u001b[32m    919\u001b[39m     \u001b[38;5;28;01mreturn\u001b[39;00m arr.map(mapper, na_action=na_action)\n\u001b[32m--> \u001b[39m\u001b[32m921\u001b[39m \u001b[38;5;28;01mreturn\u001b[39;00m \u001b[43malgorithms\u001b[49m\u001b[43m.\u001b[49m\u001b[43mmap_array\u001b[49m\u001b[43m(\u001b[49m\u001b[43marr\u001b[49m\u001b[43m,\u001b[49m\u001b[43m \u001b[49m\u001b[43mmapper\u001b[49m\u001b[43m,\u001b[49m\u001b[43m \u001b[49m\u001b[43mna_action\u001b[49m\u001b[43m=\u001b[49m\u001b[43mna_action\u001b[49m\u001b[43m,\u001b[49m\u001b[43m \u001b[49m\u001b[43mconvert\u001b[49m\u001b[43m=\u001b[49m\u001b[43mconvert\u001b[49m\u001b[43m)\u001b[49m\n",
      "\u001b[36mFile \u001b[39m\u001b[32m~/.pyenv/versions/3.13.2/lib/python3.13/site-packages/pandas/core/algorithms.py:1743\u001b[39m, in \u001b[36mmap_array\u001b[39m\u001b[34m(arr, mapper, na_action, convert)\u001b[39m\n\u001b[32m   1741\u001b[39m values = arr.astype(\u001b[38;5;28mobject\u001b[39m, copy=\u001b[38;5;28;01mFalse\u001b[39;00m)\n\u001b[32m   1742\u001b[39m \u001b[38;5;28;01mif\u001b[39;00m na_action \u001b[38;5;129;01mis\u001b[39;00m \u001b[38;5;28;01mNone\u001b[39;00m:\n\u001b[32m-> \u001b[39m\u001b[32m1743\u001b[39m     \u001b[38;5;28;01mreturn\u001b[39;00m \u001b[43mlib\u001b[49m\u001b[43m.\u001b[49m\u001b[43mmap_infer\u001b[49m\u001b[43m(\u001b[49m\u001b[43mvalues\u001b[49m\u001b[43m,\u001b[49m\u001b[43m \u001b[49m\u001b[43mmapper\u001b[49m\u001b[43m,\u001b[49m\u001b[43m \u001b[49m\u001b[43mconvert\u001b[49m\u001b[43m=\u001b[49m\u001b[43mconvert\u001b[49m\u001b[43m)\u001b[49m\n\u001b[32m   1744\u001b[39m \u001b[38;5;28;01melse\u001b[39;00m:\n\u001b[32m   1745\u001b[39m     \u001b[38;5;28;01mreturn\u001b[39;00m lib.map_infer_mask(\n\u001b[32m   1746\u001b[39m         values, mapper, mask=isna(values).view(np.uint8), convert=convert\n\u001b[32m   1747\u001b[39m     )\n",
      "\u001b[36mFile \u001b[39m\u001b[32mlib.pyx:2972\u001b[39m, in \u001b[36mpandas._libs.lib.map_infer\u001b[39m\u001b[34m()\u001b[39m\n",
      "\u001b[36mFile \u001b[39m\u001b[32m/mnt/c/Users/wesle/Desktop/SH-drone-sampling/data_analysis.py:30\u001b[39m, in \u001b[36mground_data.<locals>.<lambda>\u001b[39m\u001b[34m(m)\u001b[39m\n\u001b[32m     27\u001b[39m \u001b[38;5;28;01mdel\u001b[39;00m ground[\u001b[33m\"\u001b[39m\u001b[33msoil temperature\u001b[39m\u001b[33m\"\u001b[39m]\n\u001b[32m     28\u001b[39m \u001b[38;5;28mprint\u001b[39m(transect, date)\n\u001b[32m     29\u001b[39m ground[\u001b[33m\"\u001b[39m\u001b[33msoil_moisture\u001b[39m\u001b[33m\"\u001b[39m] = ground[\u001b[33m\"\u001b[39m\u001b[33msoil moisture\u001b[39m\u001b[33m\"\u001b[39m].apply(\n\u001b[32m---> \u001b[39m\u001b[32m30\u001b[39m     \u001b[38;5;28;01mlambda\u001b[39;00m m: \u001b[33m\"\u001b[39m\u001b[33mDNW\u001b[39m\u001b[33m\"\u001b[39m.index((\u001b[38;5;28mprint\u001b[39m(m), \u001b[43mm\u001b[49m\u001b[43m[\u001b[49m\u001b[32;43m0\u001b[39;49m\u001b[43m]\u001b[49m)[\u001b[32m1\u001b[39m]) * \u001b[32m3\u001b[39m\n\u001b[32m     31\u001b[39m     + (\u001b[32m1\u001b[39m \u001b[38;5;28;01mif\u001b[39;00m m[-\u001b[32m1\u001b[39m] \u001b[38;5;129;01min\u001b[39;00m \u001b[33m\"\u001b[39m\u001b[33m-_\u001b[39m\u001b[33m\"\u001b[39m \u001b[38;5;28;01melse\u001b[39;00m (\u001b[32m2\u001b[39m \u001b[38;5;28;01mif\u001b[39;00m m[-\u001b[32m1\u001b[39m] != \u001b[33m\"\u001b[39m\u001b[33m+\u001b[39m\u001b[33m\"\u001b[39m \u001b[38;5;28;01melse\u001b[39;00m \u001b[32m3\u001b[39m))\n\u001b[32m     32\u001b[39m )\n\u001b[32m     33\u001b[39m \u001b[38;5;28;01mdel\u001b[39;00m ground[\u001b[33m\"\u001b[39m\u001b[33msoil moisture\u001b[39m\u001b[33m\"\u001b[39m]\n\u001b[32m     35\u001b[39m \u001b[38;5;66;03m# Convert time data to workable variables\u001b[39;00m\n",
      "\u001b[31mTypeError\u001b[39m: 'float' object is not subscriptable"
     ]
    }
   ],
   "source": [
    "m = folium.Map(tiles=\"Stadia.AlidadeSatellite\", location=[42.446, -78.2155], zoom_start=18, zoom_control=False)\n",
    "dates = ['04-04', '04-27']\n",
    "all_ground = []\n",
    "all_below_samples = []\n",
    "all_above = []\n",
    "for date in dates:\n",
    "    for transect in range(1, 4):\n",
    "        ground = data_analysis.ground_data(transect, date)\n",
    "        below = data_analysis.below_canopy(transect, date)\n",
    "        above = data_analysis.above_canopy(transect, date)\n",
    "\n",
    "        below_samples = data_analysis.get_distances(ground, below, above)\n",
    "        all_ground.append(ground)\n",
    "        all_below_samples.append(below_samples)\n",
    "        all_above.append(above)\n",
    "        plotregion(m, below_samples, linecolor='gold')\n",
    "        plotregion(m, above, linecolor='purple')\n",
    "all_ground = pd.concat(all_ground, axis=0)\n",
    "all_below_samples = pd.concat(all_below_samples, axis=0)\n",
    "all_above = pd.concat(all_above, axis=0)\n",
    "m"
   ]
  },
  {
   "cell_type": "code",
   "execution_count": null,
   "id": "52123f12-7401-4e82-9dff-021c625587ee",
   "metadata": {},
   "outputs": [],
   "source": [
    "ground = data_analysis.ground_data(1, '04-04')\n",
    "below = data_analysis.below_canopy(1, '04-04')\n",
    "above = data_analysis.above_canopy(1, '04-04')\n",
    "below_samples = data_analysis.get_distances(ground, below, above)\n",
    "sns.lineplot(below_samples, x='distance', y='humidity', hue='direction');\n",
    "plt.xlabel('Distance from the road (m)')\n",
    "plt.ylabel('Humidity below canopy (%)')\n",
    "plt.legend(title=False);"
   ]
  },
  {
   "cell_type": "code",
   "execution_count": null,
   "id": "4fcabab4-e8db-4085-a7e7-a8699651fae0",
   "metadata": {},
   "outputs": [],
   "source": [
    "sns.lineplot(below_samples, x='distance', y='temp', hue='direction');\n",
    "plt.xlabel('Distance from the road (m)')\n",
    "plt.ylabel('Temperature below canopy (C)')\n",
    "plt.legend(title=False);"
   ]
  },
  {
   "cell_type": "code",
   "execution_count": null,
   "id": "8eea3b00-6692-45bc-a536-a1056e7047ae",
   "metadata": {},
   "outputs": [],
   "source": [
    "below_samples.query('distance < 150').groupby('distance').apply(lambda g: distance.distance(*g[['lat', 'lon']].values).meters).plot();\n",
    "plt.xlabel('Distance')\n",
    "plt.ylabel('Return Error (m)')"
   ]
  },
  {
   "cell_type": "markdown",
   "id": "bfc7feeb-5754-4f54-808f-f1c3e40a2a3f",
   "metadata": {},
   "source": [
    "# Combine Data"
   ]
  },
  {
   "cell_type": "code",
   "execution_count": null,
   "id": "57843074-226e-44d4-9b78-3d434745e93f",
   "metadata": {},
   "outputs": [],
   "source": [
    "merged = data_analysis.merge(data_analysis.combine_data(all_below_samples), data_analysis.combine_data(all_above), ('_below', '_above'))"
   ]
  },
  {
   "cell_type": "code",
   "execution_count": null,
   "id": "ace435f2-72cc-4122-ba67-2e8b6ac8760e",
   "metadata": {},
   "outputs": [],
   "source": [
    "all_data = data_analysis.merge(all_ground.groupby(['date', 'transect', 'distance']).apply(lambda g: g.iloc[0][['soil_temperature', 'soil_moisture']]), merged, ('_ground', ''))"
   ]
  },
  {
   "cell_type": "markdown",
   "id": "5ab48546-983f-45f8-b423-ab20f71a0f40",
   "metadata": {},
   "source": [
    "# Tests"
   ]
  },
  {
   "cell_type": "markdown",
   "id": "729d7f3e-5507-4453-b52b-69718d107331",
   "metadata": {},
   "source": [
    "## 1 Tests"
   ]
  },
  {
   "cell_type": "code",
   "execution_count": null,
   "id": "8dc88fd0-c523-4b38-b789-18ef4206c25a",
   "metadata": {},
   "outputs": [],
   "source": [
    "stats.bartlett(*all_data[['soil_temperature', 'temp_below', 'temp_above']].values.T, nan_policy='omit')"
   ]
  },
  {
   "cell_type": "code",
   "execution_count": null,
   "id": "626fa048-0973-4f1a-89dc-9a5646267fd6",
   "metadata": {},
   "outputs": [],
   "source": [
    "stats.f_oneway(*all_data[['soil_temperature', 'temp_below', 'temp_above']].values.T, nan_policy='omit')"
   ]
  },
  {
   "cell_type": "code",
   "execution_count": null,
   "id": "e2d6df2c-288e-4fb3-b5a1-47e78f7b443e",
   "metadata": {},
   "outputs": [],
   "source": [
    "sns.histplot(all_data.melt(value_vars=['soil_temperature', 'temp_below', 'temp_above']), x='value', hue='variable');"
   ]
  },
  {
   "cell_type": "code",
   "execution_count": null,
   "id": "c258445a-cf8c-45dd-b8ca-2eb38b5c2f53",
   "metadata": {},
   "outputs": [],
   "source": [
    "stats.bartlett(*all_data[['humidity_below', 'humidity_above']].values.T, nan_policy='omit')"
   ]
  },
  {
   "cell_type": "code",
   "execution_count": null,
   "id": "074be651-bff2-4375-9c77-a9304639d234",
   "metadata": {},
   "outputs": [],
   "source": [
    "stats.f_oneway(*all_data[['humidity_below', 'humidity_above']].values.T, nan_policy='omit')"
   ]
  },
  {
   "cell_type": "code",
   "execution_count": null,
   "id": "8185bcbe-c9bd-4d8f-be16-5e2f1bcfff68",
   "metadata": {},
   "outputs": [],
   "source": [
    "sns.histplot(all_data.melt(value_vars=['humidity_below', 'humidity_above']), x='value', hue='variable');"
   ]
  },
  {
   "cell_type": "markdown",
   "id": "64bf1d9a-5f07-4d4d-b6c9-0e84d9681577",
   "metadata": {},
   "source": [
    "## 2 Tests"
   ]
  },
  {
   "cell_type": "code",
   "execution_count": null,
   "id": "af264334-32cd-449e-88ba-dec404981aff",
   "metadata": {},
   "outputs": [],
   "source": [
    "all_data.dropna(inplace=True)"
   ]
  },
  {
   "cell_type": "code",
   "execution_count": null,
   "id": "5bf5c7bd-fbf3-4087-a06b-35361b699b6b",
   "metadata": {},
   "outputs": [],
   "source": [
    "stats.pearsonr(*all_data[['temp_below', 'temp_above']].values.T)"
   ]
  },
  {
   "cell_type": "code",
   "execution_count": null,
   "id": "f819ea18-264e-4540-91ca-8b3c4fa04707",
   "metadata": {},
   "outputs": [],
   "source": [
    "all_data.plot.scatter(x='temp_below', y='temp_above');"
   ]
  },
  {
   "cell_type": "code",
   "execution_count": null,
   "id": "9cb531e2-f023-4459-9224-94e5d0430225",
   "metadata": {},
   "outputs": [],
   "source": [
    "stats.pearsonr(*all_data[['soil_temperature', 'temp_below']].values.T)"
   ]
  },
  {
   "cell_type": "code",
   "execution_count": null,
   "id": "f5703fa8-417a-48b5-aee9-e294b94fe1bb",
   "metadata": {},
   "outputs": [],
   "source": [
    "all_data.plot.scatter(x='soil_temperature', y='temp_below');"
   ]
  },
  {
   "cell_type": "code",
   "execution_count": null,
   "id": "8db3643a-16e8-4da6-a753-57993d536a32",
   "metadata": {},
   "outputs": [],
   "source": [
    "stats.pearsonr(*all_data[['humidity_below', 'humidity_above']].values.T)"
   ]
  },
  {
   "cell_type": "code",
   "execution_count": null,
   "id": "6500d42f-5bc6-4896-96ca-d27db8f79792",
   "metadata": {},
   "outputs": [],
   "source": [
    "all_data.plot.scatter(x='humidity_below', y='humidity_above');"
   ]
  },
  {
   "cell_type": "code",
   "execution_count": null,
   "id": "ded8f2e9-315f-4cd8-84bb-993e615e7eee",
   "metadata": {},
   "outputs": [],
   "source": [
    "stats.pearsonr(*all_data[['humidity_below', 'soil_moisture']].values.T)"
   ]
  },
  {
   "cell_type": "markdown",
   "id": "b3e5ba18-ef87-43eb-b503-7b2fcf60ce9f",
   "metadata": {},
   "source": [
    "## 3 Tests"
   ]
  },
  {
   "cell_type": "markdown",
   "id": "0789e35b-81d9-417f-8120-6d18adaaa0dc",
   "metadata": {},
   "source": [
    "### Temperature"
   ]
  },
  {
   "cell_type": "code",
   "execution_count": null,
   "id": "020e719d-121a-428d-9cab-92fb679ae3bb",
   "metadata": {},
   "outputs": [],
   "source": [
    "stats.pearsonr(*all_ground[['distance', 'soil_temperature']].values.T)"
   ]
  },
  {
   "cell_type": "code",
   "execution_count": null,
   "id": "b7037ba0-0c82-42c0-9139-d1cf1793cd15",
   "metadata": {},
   "outputs": [],
   "source": [
    "all_ground.groupby('distance')['soil_temperature'].mean().plot();"
   ]
  },
  {
   "cell_type": "code",
   "execution_count": null,
   "id": "9ea85912-0569-47da-b7aa-cb382bc917fb",
   "metadata": {},
   "outputs": [],
   "source": [
    "stats.pearsonr(*all_below_samples[['distance', 'temp']].values.T)"
   ]
  },
  {
   "cell_type": "code",
   "execution_count": null,
   "id": "1c7e64cb-9dfb-40d5-8238-8a02e45577d4",
   "metadata": {},
   "outputs": [],
   "source": [
    "all_below_samples.groupby('distance')['temp'].mean().plot();"
   ]
  },
  {
   "cell_type": "code",
   "execution_count": null,
   "id": "281a8bd1-31b3-4297-86a5-f2562214f4a9",
   "metadata": {},
   "outputs": [],
   "source": [
    "stats.pearsonr(*all_above[['distance', 'temp']].values.T)"
   ]
  },
  {
   "cell_type": "code",
   "execution_count": null,
   "id": "f3681b84-a2a3-4428-b312-2d5f2deb35fe",
   "metadata": {},
   "outputs": [],
   "source": [
    "all_above.groupby('distance')['temp'].mean().plot();"
   ]
  },
  {
   "cell_type": "markdown",
   "id": "26c6db91-64e7-497a-ba86-04af407bc97d",
   "metadata": {},
   "source": [
    "### Humidity"
   ]
  },
  {
   "cell_type": "code",
   "execution_count": null,
   "id": "d840a7a1-818e-48a4-a73f-75c11909b069",
   "metadata": {},
   "outputs": [],
   "source": [
    "stats.pearsonr(*all_ground[['distance', 'soil_moisture']].values.T)"
   ]
  },
  {
   "cell_type": "code",
   "execution_count": null,
   "id": "5cace288-b76d-41a1-8aff-e294088bdfb4",
   "metadata": {},
   "outputs": [],
   "source": [
    "stats.pearsonr(*all_below_samples[['distance', 'humidity']].values.T)"
   ]
  },
  {
   "cell_type": "code",
   "execution_count": null,
   "id": "c6a10ac2-24ed-415e-a45a-2d0b02c5ea7e",
   "metadata": {},
   "outputs": [],
   "source": [
    "all_below_samples.groupby('distance')['humidity'].mean().plot();"
   ]
  },
  {
   "cell_type": "code",
   "execution_count": null,
   "id": "2258e9c3-05f2-4dc7-85ee-8dae1e6616b9",
   "metadata": {},
   "outputs": [],
   "source": [
    "stats.pearsonr(*all_above[['distance', 'humidity']].values.T)"
   ]
  },
  {
   "cell_type": "code",
   "execution_count": null,
   "id": "b685d34c-3aaf-4eac-82ab-02eede1aca00",
   "metadata": {},
   "outputs": [],
   "source": [
    "all_above.groupby('distance')['humidity'].mean().plot();"
   ]
  },
  {
   "cell_type": "markdown",
   "id": "fd633b08-740d-4731-adb9-02728ce48ba9",
   "metadata": {},
   "source": [
    "## 4 Tests"
   ]
  },
  {
   "cell_type": "code",
   "execution_count": null,
   "id": "b0d76dc2-6224-40f9-86f0-d82b330bc018",
   "metadata": {},
   "outputs": [],
   "source": [
    "all_data.eval('temp_above_below = temp_above - temp_below', inplace=True)\n",
    "all_data.eval('temp_below_ground = temp_below - soil_temperature', inplace=True)\n",
    "all_data.eval('temp_above_ground = temp_above - soil_temperature', inplace=True)\n",
    "all_data.eval('humidity_above_below = humidity_above - humidity_below', inplace=True)\n",
    "all_data.reset_index(inplace=True)"
   ]
  },
  {
   "cell_type": "code",
   "execution_count": null,
   "id": "dc23e5c4-b159-4dbf-8a10-1581770bb187",
   "metadata": {},
   "outputs": [],
   "source": [
    "sns.lineplot(all_data, x='distance', y='temp_above_below')\n",
    "stats.pearsonr(*all_data[['distance', 'temp_above_below']].values.T)"
   ]
  },
  {
   "cell_type": "code",
   "execution_count": null,
   "id": "36cb6c1d-9f70-4f41-9ac1-d62b8fbeda32",
   "metadata": {},
   "outputs": [],
   "source": [
    "sns.lineplot(all_data, x='distance', y='temp_below_ground')\n",
    "stats.pearsonr(*all_data[['distance', 'temp_below_ground']].values.T)"
   ]
  },
  {
   "cell_type": "code",
   "execution_count": null,
   "id": "ec24bd97-06d3-4f43-9954-74edd100dd02",
   "metadata": {},
   "outputs": [],
   "source": [
    "sns.lineplot(all_data, x='distance', y='temp_above_ground')\n",
    "stats.pearsonr(*all_data[['distance', 'temp_above_ground']].values.T)"
   ]
  },
  {
   "cell_type": "code",
   "execution_count": null,
   "id": "5d73c3b7-14b3-4d2a-9927-bba907c94771",
   "metadata": {},
   "outputs": [],
   "source": [
    "sns.lineplot(all_data, x='distance', y='humidity_above_below')\n",
    "stats.pearsonr(*all_data[['distance', 'humidity_above_below']].values.T)"
   ]
  }
 ],
 "metadata": {
  "kernelspec": {
   "display_name": "Python 3 (ipykernel)",
   "language": "python",
   "name": "python3"
  },
  "language_info": {
   "codemirror_mode": {
    "name": "ipython",
    "version": 3
   },
   "file_extension": ".py",
   "mimetype": "text/x-python",
   "name": "python",
   "nbconvert_exporter": "python",
   "pygments_lexer": "ipython3",
   "version": "3.13.2"
  }
 },
 "nbformat": 4,
 "nbformat_minor": 5
}
